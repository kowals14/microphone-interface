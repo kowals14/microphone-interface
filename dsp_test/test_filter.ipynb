{
 "cells": [
  {
   "cell_type": "code",
   "execution_count": 23,
   "metadata": {},
   "outputs": [
    {
     "data": {
      "image/png": "[encoded data removed]",
      "text/plain": [
       "<Figure size 432x288 with 1 Axes>"
      ]
     },
     "metadata": {
      "needs_background": "light"
     },
     "output_type": "display_data"
    }
   ],
   "source": [
    "import importlib\n",
    "import filters\n",
    "importlib.reload(filters)\n",
    "import IPython.display as ipd\n",
    "import numpy as np\n",
    "from matplotlib import pyplot as plt\n",
    "from ctypes import c_double\n",
    "\n",
    "def plotEq(f_x, x_arr, title, xlabel, ylabel):\n",
    "    plt.figure()\n",
    "    plt.title(title)\n",
    "    plt.xlabel(xlabel)\n",
    "    plt.ylabel(ylabel)\n",
    "    plt.plot(x_arr, f_x)\n",
    "\n",
    "def DTFT(x, M):\n",
    "    \"\"\"\n",
    "    Parameters:\n",
    "    ---\n",
    "    x: a signal which is assumed to start at time n = 0\n",
    "    M: the number of output points of the DTFT\n",
    "\n",
    "    Returns:\n",
    "    ---\n",
    "    X: the samples of the DTFT\n",
    "    w: corresponding frequencies of these samples\n",
    "    \"\"\"\n",
    "    N = max(M, len(x))\n",
    "    N = int(np.power(2, np.ceil(np.log(N) / np.log(2))))\n",
    "    X = np.fft.fft(x, N)\n",
    "    w = np.arange(N) / N * 2 * np.pi\n",
    "    w = w - 2 * np.pi * (w >= np.pi).astype(int)\n",
    "    X = np.fft.fftshift(X)\n",
    "    w = np.fft.fftshift(w)\n",
    "    return X, w\n",
    "\n",
    "FILTER_LOWPASS = 0\n",
    "FILTER_HIGHPASS = 1\n",
    "FILTER_BANDPASS = 2\n",
    "FILTER_NOTCH = 3\n",
    "\n",
    "# Define the parameters for sine wave\n",
    "amplitude = 10.0  # Amplitude of the sine wave\n",
    "frequency = 200.0  # Frequency of the sine wave in Hz\n",
    "duration = 1.0   # Duration of the signal in seconds\n",
    "sample_rate = 48000  # Number of samples per second\n",
    "\n",
    "# Generate time values from 0 to duration with specified sample rate\n",
    "t = np.linspace(0, duration, int(sample_rate * duration), endpoint=False)\n",
    "\n",
    "# Generate the sine wave\n",
    "y = amplitude * np.sin(2 * np.pi * frequency * t) # 200Hz sine\n",
    "z = amplitude * np.sin(2 * np.pi * frequency * 2 * t) #400Hz sine\n",
    "\n",
    "noisy_signal = (c_double * len(t))()\n",
    "filtered_signal = (c_double * len(t))()\n",
    "\n",
    "for i in range(len(t)):\n",
    "    noisy_signal[i] = y[i] + z[i]\n",
    "    filtered_signal[i] = 0.0\n",
    "\n",
    "params = filters.get_params(FILTER_LOWPASS, 48000, 300, 0, 0.5)\n",
    "filters.filter(noisy_signal, filtered_signal, 3, params)\n",
    "\n",
    "plotEq(np.array(filtered_signal), np.arange(len(t)), \"\",\"\",\"\")"
   ]
  }
 ],
 "metadata": {
  "kernelspec": {
   "display_name": "Python 3",
   "language": "python",
   "name": "python3"
  },
  "language_info": {
   "codemirror_mode": {
    "name": "ipython",
    "version": 3
   },
   "file_extension": ".py",
   "mimetype": "text/x-python",
   "name": "python",
   "nbconvert_exporter": "python",
   "pygments_lexer": "ipython3",
   "version": "3.10.12"
  }
 },
 "nbformat": 4,
 "nbformat_minor": 2
}
